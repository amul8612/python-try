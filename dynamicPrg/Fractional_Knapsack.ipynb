{
  "nbformat": 4,
  "nbformat_minor": 0,
  "metadata": {
    "colab": {
      "name": "Fractional Knapsack.ipynb",
      "provenance": [],
      "authorship_tag": "ABX9TyPz+8KDYyKkmX4rq6mVF4Gr",
      "include_colab_link": true
    },
    "kernelspec": {
      "name": "python3",
      "display_name": "Python 3"
    },
    "language_info": {
      "name": "python"
    }
  },
  "cells": [
    {
      "cell_type": "markdown",
      "metadata": {
        "id": "view-in-github",
        "colab_type": "text"
      },
      "source": [
        "<a href=\"https://colab.research.google.com/github/amul8612/python-try/blob/main/dynamicPrg/Fractional_Knapsack.ipynb\" target=\"_parent\"><img src=\"https://colab.research.google.com/assets/colab-badge.svg\" alt=\"Open In Colab\"/></a>"
      ]
    },
    {
      "cell_type": "code",
      "execution_count": null,
      "metadata": {
        "colab": {
          "base_uri": "https://localhost:8080/"
        },
        "id": "6r-9RctbDuTw",
        "outputId": "d280a80e-e259-4c9d-f048-36cdfac365c5"
      },
      "outputs": [
        {
          "output_type": "stream",
          "name": "stdout",
          "text": [
            "Enter number of items: 3\n",
            "Enter the values of the 3 item(s) in order: 2 3 5\n",
            "Enter the positive weights of the 3 item(s) in order: 3 5 8 \n",
            "Enter maximum weight: 9\n",
            "The maximum value of items that can be carried: 5.75\n",
            "The fractions in which the items should be taken: [1, 0, 0.75]\n"
          ]
        }
      ],
      "source": [
        "def fractional_knapsack(value, weight, capacity):\n",
        "    \"\"\"Return maximum value of items and their fractional amounts.\n",
        " \n",
        "    (max_value, fractions) is returned where max_value is the maximum value of\n",
        "    items with total weight not more than capacity.\n",
        "    fractions is a list where fractions[i] is the fraction that should be taken\n",
        "    of item i, where 0 <= i < total number of items.\n",
        " \n",
        "    value[i] is the value of item i and weight[i] is the weight of item i\n",
        "    for 0 <= i < n where n is the number of items.\n",
        " \n",
        "    capacity is the maximum weight.\n",
        "    \"\"\"\n",
        "    # index = [0, 1, 2, ..., n - 1] for n items\n",
        "    index = list(range(len(value)))\n",
        "    # contains ratios of values to weight\n",
        "    ratio = [v/w for v, w in zip(value, weight)]\n",
        "    # index is sorted according to value-to-weight ratio in decreasing order\n",
        "    index.sort(key=lambda i: ratio[i], reverse=True)\n",
        " \n",
        "    max_value = 0\n",
        "    fractions = [0]*len(value)\n",
        "    for i in index:\n",
        "        if weight[i] <= capacity:\n",
        "            fractions[i] = 1\n",
        "            max_value += value[i]\n",
        "            capacity -= weight[i]\n",
        "        else:\n",
        "            fractions[i] = capacity/weight[i]\n",
        "            max_value += value[i]*capacity/weight[i]\n",
        "            break\n",
        " \n",
        "    return max_value, fractions\n",
        " \n",
        " \n",
        "n = int(input('Enter number of items: '))\n",
        "value = input('Enter the values of the {} item(s) in order: '\n",
        "              .format(n)).split()\n",
        "value = [int(v) for v in value]\n",
        "weight = input('Enter the positive weights of the {} item(s) in order: '\n",
        "               .format(n)).split()\n",
        "weight = [int(w) for w in weight]\n",
        "capacity = int(input('Enter maximum weight: '))\n",
        " \n",
        "max_value, fractions = fractional_knapsack(value, weight, capacity)\n",
        "print('The maximum value of items that can be carried:', max_value)\n",
        "print('The fractions in which the items should be taken:', fractions)"
      ]
    }
  ]
}